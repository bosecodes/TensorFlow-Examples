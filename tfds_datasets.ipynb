{
  "nbformat": 4,
  "nbformat_minor": 0,
  "metadata": {
    "colab": {
      "name": "time_series_data.ipynb",
      "provenance": [],
      "authorship_tag": "ABX9TyPgQAlGbLRm7E/zoHGVZMfy",
      "include_colab_link": true
    },
    "kernelspec": {
      "name": "python3",
      "display_name": "Python 3"
    },
    "accelerator": "GPU"
  },
  "cells": [
    {
      "cell_type": "markdown",
      "metadata": {
        "id": "view-in-github",
        "colab_type": "text"
      },
      "source": [
        "<a href=\"https://colab.research.google.com/github/bosecodes/TensorFlow-Examples/blob/master/tfds_datasets.ipynb\" target=\"_parent\"><img src=\"https://colab.research.google.com/assets/colab-badge.svg\" alt=\"Open In Colab\"/></a>"
      ]
    },
    {
      "cell_type": "code",
      "metadata": {
        "id": "PxVkoAb3Rhhi",
        "colab_type": "code",
        "colab": {
          "base_uri": "https://localhost:8080/",
          "height": 151
        },
        "outputId": "49a4aa53-0f30-487a-edb1-f0363291c875"
      },
      "source": [
        "!git clone https://github.com/tensorflow/datasets.git"
      ],
      "execution_count": 3,
      "outputs": [
        {
          "output_type": "stream",
          "text": [
            "Cloning into 'datasets'...\n",
            "remote: Enumerating objects: 273, done.\u001b[K\n",
            "remote: Counting objects: 100% (273/273), done.\u001b[K\n",
            "remote: Compressing objects: 100% (204/204), done.\u001b[K\n",
            "remote: Total 25905 (delta 117), reused 214 (delta 64), pack-reused 25632\u001b[K\n",
            "Receiving objects: 100% (25905/25905), 175.85 MiB | 14.60 MiB/s, done.\n",
            "Resolving deltas: 100% (18099/18099), done.\n",
            "Checking out files: 100% (6828/6828), done.\n"
          ],
          "name": "stdout"
        }
      ]
    },
    {
      "cell_type": "code",
      "metadata": {
        "id": "sa-hXKauRpvG",
        "colab_type": "code",
        "colab": {}
      },
      "source": [
        "import tensorflow_datasets.public_api as tfds\n",
        "\n",
        "class MyDataset(tfds.core.GeneratorBasedBuilder):\n",
        "  '''This dataset is basically a collection of prices for various shows\n",
        "    streaming on Netflix'''\n",
        "\n",
        "    VERSION = tfds.core.Version('0.1.0')\n",
        "\n",
        "    def _info(self):\n",
        "      return tfds.core.DatasetInfo(\n",
        "          builder = self,\n",
        "          description = _DESCRIPTION,\n",
        "          features = tfds.features.FeaturesDict({\n",
        "              'image' : tfds.features.Image(encoding_format= 'jpeg'),\n",
        "              'caption' : tfds.features.Text()\n",
        "          }),\n",
        "          supervised_keys = ('image', 'caption'),\n",
        "          homepage = _HOMEPAGE,\n",
        "          citation = _CITATION\n",
        "      ) \n",
        "      # Specifies the tfds.core.DatasetInfo object\n",
        "      # pass # TODO\n",
        "    def _split_generators(self, dl_manager):\n",
        "      # Downloads the data and defines the split\n",
        "      # dl_manager is a tfds.download.DownloadManager that can be used to\n",
        "      # download and extract URLs\n",
        "      data_paths = dl_manager.download_and_extract({\n",
        "          'images': 'http://images.cocodataset.org/zips/val2014.zip',\n",
        "          'annotations': 'http://images.cocodataset.org/annotations/annotations_trainval2014.zip'\n",
        "      })\n",
        "\n",
        "      img_path, ann_path = data_paths['images'], data_paths['annotations']\n",
        "\n",
        "      return [tfds.core.SplitGenerator(\n",
        "          name = tfds.Split.VALIDATION,\n",
        "          gen_kwargs = {\n",
        "              'images_path': os.path.join(img_path, 'val2014'),\n",
        "              'annotations_path': os.path.join(ann_path, 'annotations')\n",
        "          }\n",
        "      )]\n",
        "\n",
        "    def _generate_examples(self):\n",
        "      # Yields examples from the dataset\n",
        "      yield 'key' , {}"
      ],
      "execution_count": 0,
      "outputs": []
    },
    {
      "cell_type": "code",
      "metadata": {
        "id": "GRPAHtpoRpyK",
        "colab_type": "code",
        "colab": {}
      },
      "source": [
        ""
      ],
      "execution_count": 0,
      "outputs": []
    },
    {
      "cell_type": "code",
      "metadata": {
        "id": "MxWXkpciRp1C",
        "colab_type": "code",
        "colab": {}
      },
      "source": [
        ""
      ],
      "execution_count": 0,
      "outputs": []
    },
    {
      "cell_type": "code",
      "metadata": {
        "id": "V9t60C3cRp3p",
        "colab_type": "code",
        "colab": {}
      },
      "source": [
        ""
      ],
      "execution_count": 0,
      "outputs": []
    },
    {
      "cell_type": "code",
      "metadata": {
        "id": "O6OteY7RRp6n",
        "colab_type": "code",
        "colab": {}
      },
      "source": [
        ""
      ],
      "execution_count": 0,
      "outputs": []
    },
    {
      "cell_type": "code",
      "metadata": {
        "id": "we-831SqRp9a",
        "colab_type": "code",
        "colab": {}
      },
      "source": [
        ""
      ],
      "execution_count": 0,
      "outputs": []
    },
    {
      "cell_type": "code",
      "metadata": {
        "id": "wImefpgZRqAg",
        "colab_type": "code",
        "colab": {}
      },
      "source": [
        ""
      ],
      "execution_count": 0,
      "outputs": []
    },
    {
      "cell_type": "code",
      "metadata": {
        "id": "HbeYgFnBRqDn",
        "colab_type": "code",
        "colab": {}
      },
      "source": [
        ""
      ],
      "execution_count": 0,
      "outputs": []
    },
    {
      "cell_type": "code",
      "metadata": {
        "id": "WMu4lAsfRqGv",
        "colab_type": "code",
        "colab": {}
      },
      "source": [
        ""
      ],
      "execution_count": 0,
      "outputs": []
    },
    {
      "cell_type": "code",
      "metadata": {
        "id": "ftuFMqO7RqJu",
        "colab_type": "code",
        "colab": {}
      },
      "source": [
        ""
      ],
      "execution_count": 0,
      "outputs": []
    },
    {
      "cell_type": "code",
      "metadata": {
        "id": "u1abRcKJRqMu",
        "colab_type": "code",
        "colab": {}
      },
      "source": [
        ""
      ],
      "execution_count": 0,
      "outputs": []
    },
    {
      "cell_type": "code",
      "metadata": {
        "id": "Kn-l3l1fRqQI",
        "colab_type": "code",
        "colab": {}
      },
      "source": [
        ""
      ],
      "execution_count": 0,
      "outputs": []
    }
  ]
}